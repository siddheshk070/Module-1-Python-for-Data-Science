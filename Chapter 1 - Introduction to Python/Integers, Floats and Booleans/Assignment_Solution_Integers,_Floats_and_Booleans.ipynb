{
 "cells": [
  {
   "cell_type": "markdown",
   "metadata": {
    "id": "JRdjdmztDelX"
   },
   "source": [
    "## <u>While doing this assignment only use those concepts which have been taught till now</u>"
   ]
  },
  {
   "cell_type": "markdown",
   "metadata": {
    "id": "8ECk3jeWDelY"
   },
   "source": [
    "## <u>Problem 1</u>\n",
    "\n",
    "In a cricket tournament, based on the outcome of a particular match a team gets following points:\n",
    "* <code>wins</code> gets <code>3</code> points\n",
    "* <code>draws</code> gets <code>1</code> points\n",
    "* <code>losses</code> gets <code>0</code> points\n",
    "\n",
    "Team Aravali plays <code>8</code> matches in this tournament. It wins <code>4</code> matches, loses <code>3</code> matches and draws <code>1</code>. What is the total number of points gained by the Team Aravali?"
   ]
  },
  {
   "cell_type": "code",
   "execution_count": null,
   "metadata": {
    "id": "m68YV3OhDelZ"
   },
   "outputs": [],
   "source": [
    "# The outcome variables are defined below\n",
    "wins = 4\n",
    "losses = 3\n",
    "draws = 1"
   ]
  },
  {
   "cell_type": "code",
   "execution_count": null,
   "metadata": {
    "id": "2cnTsWvODelc"
   },
   "outputs": [],
   "source": [
    "# Calculate the total points gained by Team Aravali\n",
    "aravali_points = 3*wins + 0*losses + 1*draws"
   ]
  },
  {
   "cell_type": "code",
   "execution_count": null,
   "metadata": {
    "colab": {
     "base_uri": "https://localhost:8080/",
     "height": 34
    },
    "id": "4ccas7cPDelf",
    "outputId": "cee1cf3c-9914-4ce8-bd7d-a64d6d0b43e0"
   },
   "outputs": [
    {
     "data": {
      "text/plain": [
       "13"
      ]
     },
     "execution_count": 4,
     "metadata": {
      "tags": []
     },
     "output_type": "execute_result"
    }
   ],
   "source": [
    "# Print the variable aravali_points\n",
    "aravali_points"
   ]
  },
  {
   "cell_type": "markdown",
   "metadata": {
    "id": "-ioInfYKDelh"
   },
   "source": [
    "## <u>Problem 2 </u>\n",
    "\n",
    "* Root of a function $f(x)$ is defined as the value $x$ where $f(x)=0$ \n",
    "* Consider a quadratic function $ f(x) = x^2 + 3x - 4$\n",
    "\n",
    "### Find the value of the function $f(x)$ at points   $x=2,x=-1, x=1$."
   ]
  },
  {
   "cell_type": "code",
   "execution_count": null,
   "metadata": {
    "id": "4_HZwes5Delh"
   },
   "outputs": [],
   "source": [
    "# Calculate the value of the function f(x) at x = 2\n",
    "func_evaluated_at_2 = 2**2 + 3*2 - 4"
   ]
  },
  {
   "cell_type": "code",
   "execution_count": null,
   "metadata": {
    "colab": {
     "base_uri": "https://localhost:8080/",
     "height": 34
    },
    "id": "zBkLIXk2Dell",
    "outputId": "6f5185ce-0a91-407d-c378-f51cfc215414"
   },
   "outputs": [
    {
     "name": "stdout",
     "output_type": "stream",
     "text": [
      "6\n"
     ]
    }
   ],
   "source": [
    "# Print the value below\n",
    "print(func_evaluated_at_2)"
   ]
  },
  {
   "cell_type": "code",
   "execution_count": null,
   "metadata": {
    "id": "uD4MAyKIDelo"
   },
   "outputs": [],
   "source": [
    "# Calculate the value of the function f(x) at x = -1\n",
    "func_evaluated_at_minus1 = (-1)**2 + 3*(-1) - 4"
   ]
  },
  {
   "cell_type": "code",
   "execution_count": null,
   "metadata": {
    "colab": {
     "base_uri": "https://localhost:8080/",
     "height": 34
    },
    "id": "Jx9WVMQ2Delq",
    "outputId": "792bdaa1-6205-4789-b47d-a0978bb8626a"
   },
   "outputs": [
    {
     "name": "stdout",
     "output_type": "stream",
     "text": [
      "-6\n"
     ]
    }
   ],
   "source": [
    "# Print the value below\n",
    "print(func_evaluated_at_minus1)"
   ]
  },
  {
   "cell_type": "code",
   "execution_count": null,
   "metadata": {
    "id": "h8PgF85VDelu"
   },
   "outputs": [],
   "source": [
    "# Calculate the value of the function f(x) at x = 1\n",
    "func_evaluated_at_1 = 1**2 + 3*1 - 4"
   ]
  },
  {
   "cell_type": "code",
   "execution_count": null,
   "metadata": {
    "colab": {
     "base_uri": "https://localhost:8080/",
     "height": 50
    },
    "id": "BdrFgug6Delw",
    "outputId": "58f5cd38-4234-4e8b-8c2f-4c690c760989"
   },
   "outputs": [
    {
     "name": "stdout",
     "output_type": "stream",
     "text": [
      "0\n"
     ]
    },
    {
     "data": {
      "text/plain": [
       "int"
      ]
     },
     "execution_count": 6,
     "metadata": {
      "tags": []
     },
     "output_type": "execute_result"
    }
   ],
   "source": [
    "# Print the type of the variable below\n",
    "print(func_evaluated_at_1)\n",
    "type(func_evaluated_at_1)"
   ]
  },
  {
   "cell_type": "markdown",
   "metadata": {
    "id": "EvldlcwqDelz"
   },
   "source": [
    "### Return the boolean for each value of $x$ to find out whether that value is a root of $f(x)$"
   ]
  },
  {
   "cell_type": "code",
   "execution_count": null,
   "metadata": {
    "colab": {
     "base_uri": "https://localhost:8080/",
     "height": 34
    },
    "id": "-tUSAgzgDel0",
    "outputId": "81f10ce1-6b62-40f2-bdb2-b9bfb1f60453"
   },
   "outputs": [
    {
     "data": {
      "text/plain": [
       "False"
      ]
     },
     "execution_count": 11,
     "metadata": {
      "tags": []
     },
     "output_type": "execute_result"
    }
   ],
   "source": [
    "# Check whether 2 is a root of f(x)\n",
    "func_evaluated_at_2 == 0"
   ]
  },
  {
   "cell_type": "code",
   "execution_count": null,
   "metadata": {
    "colab": {
     "base_uri": "https://localhost:8080/",
     "height": 34
    },
    "id": "gsNS4Ki4Del2",
    "outputId": "e3b548a1-e0f9-43c2-f415-ae30d145490f"
   },
   "outputs": [
    {
     "data": {
      "text/plain": [
       "False"
      ]
     },
     "execution_count": 12,
     "metadata": {
      "tags": []
     },
     "output_type": "execute_result"
    }
   ],
   "source": [
    "# Check whether -1 is a root of f(x)\n",
    "func_evaluated_at_minus1 == 0"
   ]
  },
  {
   "cell_type": "code",
   "execution_count": null,
   "metadata": {
    "colab": {
     "base_uri": "https://localhost:8080/",
     "height": 34
    },
    "id": "yExDY-ZXDel4",
    "outputId": "bb14a913-b086-431a-d880-f29799a6267c"
   },
   "outputs": [
    {
     "data": {
      "text/plain": [
       "True"
      ]
     },
     "execution_count": 13,
     "metadata": {
      "tags": []
     },
     "output_type": "execute_result"
    }
   ],
   "source": [
    "# Check whether 1 is a root of f(x)\n",
    "func_evaluated_at_1 == 0"
   ]
  },
  {
   "cell_type": "markdown",
   "metadata": {
    "id": "tNAI2AHRDel6"
   },
   "source": [
    "## <u> Problem 3 </u>\n",
    "\n",
    "A bag contains <code>45</code> apples, <code>65</code> oranges and <code>30</code> bananas. Find the percentage of each type of food items in the bag."
   ]
  },
  {
   "cell_type": "code",
   "execution_count": null,
   "metadata": {
    "colab": {
     "base_uri": "https://localhost:8080/",
     "height": 34
    },
    "id": "XJ9Rq4P3Del7",
    "outputId": "bcfab968-1c22-4dba-a88c-0af70f92c9af"
   },
   "outputs": [
    {
     "name": "stdout",
     "output_type": "stream",
     "text": [
      "32.142857142857146\n"
     ]
    }
   ],
   "source": [
    "# Calculate the percentage of apples and print the variable\n",
    "apples = 45\n",
    "oranges = 65\n",
    "bananas = 30\n",
    "\n",
    "percentage_apples = apples*100/(apples+ oranges + bananas)\n",
    "print(percentage_apples)"
   ]
  },
  {
   "cell_type": "code",
   "execution_count": null,
   "metadata": {
    "colab": {
     "base_uri": "https://localhost:8080/",
     "height": 34
    },
    "id": "S6lJZtaXDel9",
    "outputId": "27492154-a4de-43ae-bf90-60b01fa27456"
   },
   "outputs": [
    {
     "name": "stdout",
     "output_type": "stream",
     "text": [
      "46.42857142857143\n"
     ]
    }
   ],
   "source": [
    "# Calculate the percentage of oranges and print the variable\n",
    "percentage_oranges = oranges*100/(apples+ oranges + bananas)\n",
    "print(percentage_oranges)\n"
   ]
  },
  {
   "cell_type": "code",
   "execution_count": null,
   "metadata": {
    "colab": {
     "base_uri": "https://localhost:8080/",
     "height": 34
    },
    "id": "mHzMnSZrDemB",
    "outputId": "a0558594-ef42-4d30-e3c3-7a91727c6e92"
   },
   "outputs": [
    {
     "name": "stdout",
     "output_type": "stream",
     "text": [
      "21.428571428571427\n"
     ]
    }
   ],
   "source": [
    "# Calculate the percentage of bananas and print the variable\n",
    "\n",
    "percentage_bananas = bananas*100/(apples + oranges + bananas)\n",
    "print(percentage_bananas)"
   ]
  },
  {
   "cell_type": "markdown",
   "metadata": {
    "id": "F44LczfzDemD"
   },
   "source": [
    "## <u>Problem 4</u>\n",
    "\n",
    "You were playing a fun guessing game during your school break. There were a total of 100 participants excluding you. Out of these 100 people, 30 were Maths Majors, 45 were Economics Majors and 25 were Physics Majors.\n",
    "\n",
    "The game was divided into three rounds.\n",
    "\n",
    "* In the first round, you had to guess the number of Maths Majors and you <b>correctly</b> guessed 20 of them.\n",
    "* In the second round, you had to guess the number of Economics Majors and you <b>correctly</b> guessed 30 of them.\n",
    "* In the final third round, you had to guess the number of Physics Majors and you <b>correctly</b> guessed 20 of them.\n",
    "\n",
    "### Accuracy is defined as the number of correct guesses upon total number of people in the group (expressed in percentage)"
   ]
  },
  {
   "cell_type": "markdown",
   "metadata": {
    "id": "lkGEV_zpDemE"
   },
   "source": [
    "* ### Define your variables"
   ]
  },
  {
   "cell_type": "code",
   "execution_count": null,
   "metadata": {
    "id": "OfXY9LcVDemF"
   },
   "outputs": [],
   "source": [
    "# Store the number of Maths majors\n",
    "maths_majors = 30\n",
    "\n",
    "# Store the number of Economics majors\n",
    "economics_majors = 45\n",
    "\n",
    "# Store the number of Physics majors\n",
    "physics_majors = 25\n",
    "\n",
    "# Store the number of your correct guesses of Maths majors\n",
    "correctly_guessed_maths_majors = 20\n",
    "\n",
    "# Store the number of your correct guesses of Economics majors\n",
    "correctly_guessed_economics_majors = 30\n",
    "\n",
    "# Store the number of your correct guesses of Physics majors\n",
    "correctly_guessed_physics_majors = 20"
   ]
  },
  {
   "cell_type": "markdown",
   "metadata": {
    "id": "Eg_Or6GmDemI"
   },
   "source": [
    "* ### Calculate your accuracy in each of the three rounds"
   ]
  },
  {
   "cell_type": "code",
   "execution_count": null,
   "metadata": {
    "colab": {
     "base_uri": "https://localhost:8080/",
     "height": 34
    },
    "id": "QUbDKOR3DemJ",
    "outputId": "838fbb28-6d82-43fc-b308-2f0b2af31611"
   },
   "outputs": [
    {
     "name": "stdout",
     "output_type": "stream",
     "text": [
      "66.66666666666667\n"
     ]
    }
   ],
   "source": [
    "# Print the Maths accuracy\n",
    "\n",
    "maths_accuracy = correctly_guessed_maths_majors*100/maths_majors\n",
    "print(maths_accuracy)"
   ]
  },
  {
   "cell_type": "code",
   "execution_count": null,
   "metadata": {
    "colab": {
     "base_uri": "https://localhost:8080/",
     "height": 34
    },
    "id": "PfX4DowhDemM",
    "outputId": "1de64217-c550-490f-a09f-f4d0d82224e2"
   },
   "outputs": [
    {
     "name": "stdout",
     "output_type": "stream",
     "text": [
      "66.66666666666667\n"
     ]
    }
   ],
   "source": [
    "# Print the Economics accuracy\n",
    "\n",
    "economics_accuracy = correctly_guessed_economics_majors*100/economics_majors\n",
    "print(economics_accuracy)"
   ]
  },
  {
   "cell_type": "code",
   "execution_count": null,
   "metadata": {
    "colab": {
     "base_uri": "https://localhost:8080/",
     "height": 34
    },
    "id": "ZV-hzGKCDemP",
    "outputId": "df1cd9ea-35dd-4ac0-c7ce-9123a562a153"
   },
   "outputs": [
    {
     "name": "stdout",
     "output_type": "stream",
     "text": [
      "80.0\n"
     ]
    }
   ],
   "source": [
    "# Print the Physics accuracy\n",
    "physics_accuracy = correctly_guessed_physics_majors*100/physics_majors\n",
    "print(physics_accuracy)"
   ]
  },
  {
   "cell_type": "markdown",
   "metadata": {
    "id": "FvKZonnwDemS"
   },
   "source": [
    "* ### Calculate your overall accuracy in the entire game"
   ]
  },
  {
   "cell_type": "code",
   "execution_count": null,
   "metadata": {
    "colab": {
     "base_uri": "https://localhost:8080/",
     "height": 34
    },
    "id": "eP3JkusLDemT",
    "outputId": "e04ac02e-3242-43bc-bab7-cf18c1e9af17"
   },
   "outputs": [
    {
     "name": "stdout",
     "output_type": "stream",
     "text": [
      "70.0\n"
     ]
    }
   ],
   "source": [
    "# Print the overall accuracy\n",
    "total_correct_guesses = correctly_guessed_maths_majors + correctly_guessed_physics_majors + correctly_guessed_economics_majors\n",
    "total_majors = maths_majors + economics_majors + physics_majors\n",
    "overall_accuracy = (total_correct_guesses)*100/(total_majors)\n",
    "print(overall_accuracy)"
   ]
  },
  {
   "cell_type": "code",
   "execution_count": null,
   "metadata": {
    "id": "bQjpB6TRaSrL"
   },
   "outputs": [],
   "source": []
  }
 ],
 "metadata": {
  "colab": {
   "provenance": []
  },
  "kernelspec": {
   "display_name": "Python 3 (ipykernel)",
   "language": "python",
   "name": "python3"
  },
  "language_info": {
   "codemirror_mode": {
    "name": "ipython",
    "version": 3
   },
   "file_extension": ".py",
   "mimetype": "text/x-python",
   "name": "python",
   "nbconvert_exporter": "python",
   "pygments_lexer": "ipython3",
   "version": "3.9.12"
  }
 },
 "nbformat": 4,
 "nbformat_minor": 1
}
